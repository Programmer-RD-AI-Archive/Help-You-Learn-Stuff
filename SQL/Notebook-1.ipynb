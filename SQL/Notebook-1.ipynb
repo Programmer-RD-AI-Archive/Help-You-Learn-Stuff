{
    "metadata": {
        "kernelspec": {
            "name": "SQL",
            "display_name": "SQL",
            "language": "sql"
        },
        "language_info": {
            "name": "sql",
            "version": ""
        }
    },
    "nbformat_minor": 2,
    "nbformat": 4,
    "cells": [
        {
            "cell_type": "code",
            "source": [
                "CREATE TABLE Contact_Us (Email varchar(max),Question varchar(max))"
            ],
            "metadata": {
                "azdata_cell_guid": "8f39ca5d-ae0c-4e42-9a84-b9618665f79b"
            },
            "outputs": [
                {
                    "output_type": "display_data",
                    "data": {
                        "text/html": "Commands completed successfully."
                    },
                    "metadata": {}
                },
                {
                    "output_type": "display_data",
                    "data": {
                        "text/html": "Total execution time: 00:00:00.288"
                    },
                    "metadata": {}
                }
            ],
            "execution_count": 3
        },
        {
            "cell_type": "code",
            "source": [
                ""
            ],
            "metadata": {
                "azdata_cell_guid": "5f849fc5-a518-4f01-a2ea-ef3e25e2f13b"
            },
            "outputs": [
                {
                    "output_type": "error",
                    "evalue": "Msg 229, Level 14, State 5, Line 1\nThe SELECT permission was denied on the object 'Contact_Us', database 'master', schema 'dbo'.",
                    "ename": "",
                    "traceback": []
                },
                {
                    "output_type": "display_data",
                    "data": {
                        "text/html": "Total execution time: 00:00:00.281"
                    },
                    "metadata": {}
                }
            ],
            "execution_count": 4
        }
    ]
}