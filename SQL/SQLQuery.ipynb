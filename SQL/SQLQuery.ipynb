{
    "metadata": {
        "kernelspec": {
            "name": "SQL",
            "display_name": "SQL",
            "language": "sql"
        },
        "language_info": {
            "name": "sql",
            "version": ""
        }
    },
    "nbformat_minor": 2,
    "nbformat": 4,
    "cells": [
        {
            "cell_type": "code",
            "source": [
                "-- Contact_Us\n",
                "DROP TABLE Contact_Us;\n",
                "\n",
                "CREATE TABLE Contact_Us (\n",
                "    ID int IDENTITY(1, 1),\n",
                "    Email varchar(max),\n",
                "    Question varchar(max)\n",
                ");\n",
                "\n",
                "SELECT\n",
                "    *\n",
                "FROM\n",
                "    Contact_Us;"
            ],
            "metadata": {
                "azdata_cell_guid": "e47793ef-9e2b-4862-83da-c74e9d172148"
            },
            "outputs": [
                {
                    "output_type": "error",
                    "evalue": "Msg 229, Level 14, State 5, Line 9\nThe SELECT permission was denied on the object 'Contact_Us', database 'master', schema 'dbo'.",
                    "ename": "",
                    "traceback": []
                },
                {
                    "output_type": "display_data",
                    "data": {
                        "text/html": "Total execution time: 00:00:00.291"
                    },
                    "metadata": {}
                }
            ],
            "execution_count": 2
        },
        {
            "cell_type": "code",
            "source": [
                "-- Accounts\n",
                "DROP TABLE Accounts;\n",
                "\n",
                "CREATE TABLE Accounts (\n",
                "    [ID] int IDENTITY(1, 1),\n",
                "    Rank INT,\n",
                "    [Email] varchar(max),\n",
                "    [User_Name] varchar(max),\n",
                "    [Password] varchar(max)\n",
                ");\n",
                "\n",
                "SELECT\n",
                "    *\n",
                "FROM\n",
                "    Accounts;"
            ],
            "metadata": {
                "azdata_cell_guid": "88e73c38-a65e-4e9c-81d0-45fa6e41c4b1"
            },
            "outputs": [],
            "execution_count": null
        },
        {
            "cell_type": "code",
            "source": [
                "-- All of the tables\n",
                "SELECT\n",
                "    table_name\n",
                "FROM\n",
                "    information_schema.tables;"
            ],
            "metadata": {
                "azdata_cell_guid": "04e0c341-59b6-490d-90b1-7239f464d8cc"
            },
            "outputs": [],
            "execution_count": null
        },
        {
            "cell_type": "code",
            "source": [
                "-- Questions\n",
                "DROP TABLE Questions;\n",
                "\n",
                "CREATE TABLE Questions (\n",
                "    label varchar(max),\n",
                "    content varchar(max),\n",
                "    html varchar(max),\n",
                "    name varchar(max),\n",
                ");\n",
                "\n",
                "SELECT\n",
                "    *\n",
                "FROM\n",
                "    Questions;"
            ],
            "metadata": {
                "azdata_cell_guid": "d28cedc0-bf6d-4a22-a1ab-39d36099c61e"
            },
            "outputs": [],
            "execution_count": null
        },
        {
            "cell_type": "code",
            "source": [
                "-- Resources\n",
                "DROP TABLE Resources;\n",
                "\n",
                "CREATE TABLE Resources (\n",
                "    [ID] int IDENTITY(1, 1),\n",
                "    [method_of_resource] Int,\n",
                "    [link_of_resource] varchar(max),\n",
                "    [title] varchar(max),\n",
                "    [description] varchar(max)\n",
                ");\n",
                "\n",
                "SELECT\n",
                "    *\n",
                "FROM\n",
                "    Resources;"
            ],
            "metadata": {
                "azdata_cell_guid": "ca4fa5e3-73af-40fc-9447-ad797482a7f6"
            },
            "outputs": [],
            "execution_count": null
        },
        {
            "cell_type": "code",
            "source": [
                "-- Courses\n",
                "DROP TABLE Courses; \n",
                "CREATE TABLE Courses (\n",
                "    [ID] int IDENTITY(1, 1),\n",
                "    [Whole_Content] varchar(max),\n",
                "    [Info] varchar(max),\n",
                "    [Image] varchar(max),\n",
                "    [Name] varchar(max),\n",
                "    [Marks] varchar(max) -- [Description] varchar(max)\n",
                ");\n",
                "\n",
                "SELECT\n",
                "    *\n",
                "FROM\n",
                "    Courses;"
            ],
            "metadata": {
                "azdata_cell_guid": "25fb9a84-f2b1-4561-9c3d-f95cd5723eed"
            },
            "outputs": [],
            "execution_count": null
        },
        {
            "cell_type": "code",
            "source": [
                "-- TEST\n",
                "DROP TABLE TEST;\n",
                "\n",
                "CREATE TABLE [TEST] ([Testing_Object] varchar(max));\n",
                "\n",
                "INSERT INTO\n",
                "    [TEST] ([Testing_Object])\n",
                "VALUES\n",
                "    (\n",
                "        '{\"1\": [[\"te\", \"3\", \"question\"]], \"2\": [[\"te\", \"3\", \"question\"]]}'\n",
                "    );\n",
                "\n",
                "SELECT\n",
                "    *\n",
                "FROM\n",
                "    TEST;\n",
                ""
            ],
            "metadata": {
                "azdata_cell_guid": "44224d79-b1f7-4f85-8b6a-2d26ae8aac59"
            },
            "outputs": [],
            "execution_count": null
        }
    ]
}