{
    "metadata": {
        "kernelspec": {
            "name": "SQL",
            "display_name": "SQL",
            "language": "sql"
        },
        "language_info": {
            "name": "sql",
            "version": ""
        }
    },
    "nbformat_minor": 2,
    "nbformat": 4,
    "cells": [
        {
            "cell_type": "code",
            "source": [
                "SELECT * FROM Contact_Us"
            ],
            "metadata": {
                "azdata_cell_guid": "d5958c3c-4213-4b33-9e87-b3e3334dca3c"
            },
            "outputs": [
{
    "output_type": "error",
    "evalue": "Msg 229, Level 14, State 5, Line 1\nThe SELECT permission was denied on the object 'Contact_Us', database 'master', schema 'dbo'.",
    "ename": "",
    "traceback": []
}, {
    "output_type": "display_data",
    "data": {
        "text/html": "Total execution time: 00:00:00.278"
    },
    "metadata": {}
}
],
            "execution_count": 3
        }
    ]
}